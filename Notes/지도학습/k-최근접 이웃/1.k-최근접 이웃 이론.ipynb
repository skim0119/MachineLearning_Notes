{
 "cells": [
  {
   "cell_type": "markdown",
   "metadata": {},
   "source": [
    "# k-최근접 이웃 (kNN : k-Nearest Neighbors)\n",
    "\n",
    "- #Supervised\n",
    "- #지도학습\n",
    "\n",
    "|         장점         |       단점      |\n",
    "|:--------------------:|:---------------:|\n",
    "| 정확도 | 메모리와 계산량 |\n",
    "| 선입견과 가정이 없음 | 기존 훈련용 데이터에 의존 |\n",
    "| 이상치에 영향이 적음 | |\n",
    "| 훈련과정이 불필요함| |\n",
    "\n",
    "\n",
    "## 거리 측정을 기준으로 분류\n",
    "\n",
    "k-최근접이웃 분류방법은 기존에 훈련용 데이터 집합과 항목(labels)을 새로운 데이터와 비교하여 가장 근접한 항목으로 분류하는 방법이다. 가장 근접한 항목을 k개수만큼 선정한 뒤 다수결을 통해 분류항목을 결정한다.\n",
    "\n",
    "## 일반적 알고리즘\n",
    "\n",
    "- 새로운 데이터 X에 대해 kNN 알고리즘을 사용한 분류방법은 다음과 같이 나타낼수 있다.\n",
    "\n",
    "```\n",
    "point For every train_dataset:\n",
    "    distance = ||new_point - point||\n",
    "    find k items of lowest distance\n",
    "    select label of majority class from k items\n",
    "    return prediction\n",
    "```"
   ]
  },
  {
   "cell_type": "code",
   "execution_count": 1,
   "metadata": {},
   "outputs": [
    {
     "ename": "ModuleNotFoundError",
     "evalue": "No module named 'import_ipynb'",
     "output_type": "error",
     "traceback": [
      "\u001b[0;31m---------------------------------------------------------------------------\u001b[0m",
      "\u001b[0;31mModuleNotFoundError\u001b[0m                       Traceback (most recent call last)",
      "\u001b[0;32m<ipython-input-1-3f50e42d00b7>\u001b[0m in \u001b[0;36m<module>\u001b[0;34m()\u001b[0m\n\u001b[1;32m      5\u001b[0m \u001b[0;34m\u001b[0m\u001b[0m\n\u001b[1;32m      6\u001b[0m \u001b[0;31m# Import Assisting Packages\u001b[0m\u001b[0;34m\u001b[0m\u001b[0;34m\u001b[0m\u001b[0m\n\u001b[0;32m----> 7\u001b[0;31m \u001b[0;32mimport\u001b[0m \u001b[0mimport_ipynb\u001b[0m\u001b[0;34m\u001b[0m\u001b[0m\n\u001b[0m\u001b[1;32m      8\u001b[0m \u001b[0;32mimport\u001b[0m \u001b[0mDataGenerator\u001b[0m \u001b[0;31m# import bi_property\u001b[0m\u001b[0;34m\u001b[0m\u001b[0m\n\u001b[1;32m      9\u001b[0m \u001b[0;34m\u001b[0m\u001b[0m\n",
      "\u001b[0;31mModuleNotFoundError\u001b[0m: No module named 'import_ipynb'"
     ]
    }
   ],
   "source": [
    "%matplotlib inline\n",
    "%load_ext autoreload \n",
    "%autoreload 2\n",
    "from importlib import reload\n",
    "\n",
    "# Import Assisting Packages\n",
    "import import_ipynb\n",
    "import DataGenerator # import bi_property\n",
    "\n",
    "# Import Standard Packages\n",
    "import math\n",
    "\n",
    "import matplotlib.pyplot as plt\n",
    "import matplotlib.colors as colors\n",
    "import matplotlib.cm as cmx\n",
    "\n",
    "import numpy as np\n",
    "import pandas as pd\n",
    "import operator\n",
    "\n",
    "np.random.seed(10)"
   ]
  },
  {
   "cell_type": "markdown",
   "metadata": {},
   "source": [
    "## 기본예제 1\n",
    "\n",
    "- 기존항목(labels) : 3개의 라벨 (0~2)\n",
    "- 데이터(properties) : (x1, x2)\n",
    "\n",
    "![](images/simple_algorithm.svg)"
   ]
  },
  {
   "cell_type": "code",
   "execution_count": null,
   "metadata": {},
   "outputs": [],
   "source": [
    "# Prepare Dataset\n",
    "n_categories = 3\n",
    "df = DataGenerator.bi_property_dataset(n_categories)\n",
    "df.head()"
   ]
  },
  {
   "cell_type": "code",
   "execution_count": null,
   "metadata": {},
   "outputs": [],
   "source": [
    "# 분류기 생성\n",
    "def knn_classifier(new_x, k, dataset=df.values[:,:-1], labels=df.values[:,-1]):\n",
    "    # 새로운 점부터 다른 지점까지에 거리 계산 (유클리드 거리계산법)\n",
    "    n_dataset = dataset.shape[0]\n",
    "    dist = ((np.tile(new_x, (n_dataset,1)) - dataset)**2).sum(axis=1)**(0.5)\n",
    "    # 가장 짧은 거리 k개수 선정\n",
    "    shortest_arg = dist.argsort()[:k]\n",
    "    count={}          \n",
    "    for i in shortest_arg:\n",
    "        label = int(labels[i])\n",
    "        count[label] = 1 + count.get(label,0) # initialize and increment at the same time\n",
    "    major_label = sorted(count.items(), key=operator.itemgetter(1), reverse=True)[0][0] # sort by reverse\n",
    "    return major_label\n",
    "    # 선정된 라벨을 이용해 다수결로 최종결정"
   ]
  },
  {
   "cell_type": "markdown",
   "metadata": {},
   "source": [
    "### 시각화 : \n",
    "데이터는 x1과 x2에 의해 분류될수 있으며, 그래프상 임의에 점을 주어졌을때에 분류 결과를 보여줌."
   ]
  },
  {
   "cell_type": "code",
   "execution_count": null,
   "metadata": {},
   "outputs": [],
   "source": [
    "# 분류기 시각화\n",
    "# Draw Original Data\n",
    "k = 5\n",
    "x1 = df.values[:,0]\n",
    "x2 = df.values[:,1]\n",
    "plt.scatter(x1,x2)\n",
    "# Set the color map to match the number of category\n",
    "hot = plt.get_cmap('hot')\n",
    "cNorm  = colors.Normalize(vmin=0, vmax=n_categories)\n",
    "scalarMap = cmx.ScalarMappable(norm=cNorm, cmap=hot)\n",
    "\n",
    "# Draw result\n",
    "linex1 = np.linspace(min(x1),max(x1), num=100)\n",
    "linex2 = np.linspace(min(x2),max(x2), num=100)\n",
    "field = [[scalarMap.to_rgba(knn_classifier([x1,x2], k))\n",
    "          for x1 in linex1] for x2 in linex2]\n",
    "\n",
    "plt.imshow(field, origin='lower', extent=(0,30,0,30), alpha=0.5)\n",
    "\n",
    "plt.xlabel('x1')\n",
    "plt.ylabel('x2')\n",
    "plt.title('kNN Classifier')\n",
    "plt.show()"
   ]
  }
 ],
 "metadata": {
  "kernelspec": {
   "display_name": "Python 3",
   "language": "python",
   "name": "python3"
  },
  "language_info": {
   "codemirror_mode": {
    "name": "ipython",
    "version": 3
   },
   "file_extension": ".py",
   "mimetype": "text/x-python",
   "name": "python",
   "nbconvert_exporter": "python",
   "pygments_lexer": "ipython3",
   "version": "3.6.3"
  }
 },
 "nbformat": 4,
 "nbformat_minor": 2
}
