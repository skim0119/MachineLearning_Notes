{
 "cells": [
  {
   "cell_type": "markdown",
   "metadata": {},
   "source": [
    "# 데이터 생성기"
   ]
  },
  {
   "cell_type": "code",
   "execution_count": 4,
   "metadata": {},
   "outputs": [],
   "source": [
    "import numpy as np\n",
    "import math\n",
    "import matplotlib.pyplot as plt\n",
    "from numpy.random import multivariate_normal, permutation\n",
    "import pandas as pd\n",
    "from pandas import DataFrame, Series"
   ]
  },
  {
   "cell_type": "markdown",
   "metadata": {},
   "source": [
    "## 예제1: 이중항목 분류"
   ]
  },
  {
   "cell_type": "code",
   "execution_count": 6,
   "metadata": {},
   "outputs": [],
   "source": [
    "def bi_property_dataset():\n",
    "    # Example Data Creation\n",
    "    np.random.seed(20121283)\n",
    "\n",
    "    n0, mu0, variance0 = 30, [10, 11], 20\n",
    "    data0 = multivariate_normal(mu0, np.eye(2)*variance0 ,n0)\n",
    "    df0 = DataFrame(data0, columns=['x1','x2'])\n",
    "    df0['t'] = 0\n",
    "\n",
    "    n1, mu1, variance1 = 40, [16, 19], 17\n",
    "    data1 = multivariate_normal(mu1, np.eye(2)*variance1 ,n1)\n",
    "    df1 = DataFrame(data1, columns=['x1','x2'])\n",
    "    df1['t'] = 1\n",
    "\n",
    "    df = pd.concat([df0, df1], ignore_index=True)\n",
    "    train_set = df.reindex(permutation(df.index)).reset_index(drop=True)\n",
    "\n",
    "    # Extract data separately for t=0 and t=1\n",
    "    train_set0 = train_set[train_set['t']==0]\n",
    "    train_set1 = train_set[train_set['t']==1]\n",
    "\n",
    "\n",
    "    train_x = train_set[['x1','x2']].as_matrix()\n",
    "    train_t = train_set['t'].as_matrix().reshape([len(train_set), 1])\n",
    "\n",
    "    # Plot each data - use x or o depend on the value of t\n",
    "    fig = plt.figure(figsize=(6,6))\n",
    "    subplot = fig.add_subplot(1,1,1)\n",
    "    subplot.set_ylim([0,30])\n",
    "    subplot.set_xlim([0,30])\n",
    "    subplot.scatter(train_set1.x1, train_set1.x2, marker='x')\n",
    "    subplot.scatter(train_set0.x1, train_set0.x2, marker='o')\n",
    "\n",
    "    train_set.T"
   ]
  }
 ],
 "metadata": {
  "kernelspec": {
   "display_name": "Python 3",
   "language": "python",
   "name": "python3"
  },
  "language_info": {
   "codemirror_mode": {
    "name": "ipython",
    "version": 3
   },
   "file_extension": ".py",
   "mimetype": "text/x-python",
   "name": "python",
   "nbconvert_exporter": "python",
   "pygments_lexer": "ipython3",
   "version": "3.6.3"
  }
 },
 "nbformat": 4,
 "nbformat_minor": 2
}
