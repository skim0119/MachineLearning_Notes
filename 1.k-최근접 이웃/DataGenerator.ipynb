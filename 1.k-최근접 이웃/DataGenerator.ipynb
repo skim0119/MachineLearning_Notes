{
 "cells": [
  {
   "cell_type": "markdown",
   "metadata": {},
   "source": [
    "# 데이터 생성기"
   ]
  },
  {
   "cell_type": "code",
   "execution_count": 3,
   "metadata": {},
   "outputs": [],
   "source": [
    "import numpy as np\n",
    "from numpy.random import multivariate_normal, permutation\n",
    "\n",
    "import math\n",
    "import matplotlib.pyplot as plt\n",
    "\n",
    "import pandas as pd\n",
    "from pandas import DataFrame, Series"
   ]
  },
  {
   "cell_type": "markdown",
   "metadata": {},
   "source": [
    "## 예제1: 이중항목 분류"
   ]
  },
  {
   "cell_type": "code",
   "execution_count": 1,
   "metadata": {
    "scrolled": false
   },
   "outputs": [],
   "source": [
    "def bi_property_dataset(n_category=2, size=(30,40)):\n",
    "    if n_category < 2:\n",
    "        print('There must be more than 2 category')\n",
    "        return\n",
    "    \n",
    "    # Generate Dataset using multivariate_normal\n",
    "    subdf_set = []\n",
    "    mean_i = np.array([1,1])\n",
    "    for category in range(n_category):\n",
    "        n = np.random.randint(size[0], size[1])\n",
    "        mean = [sum(np.random.randint(8,12,i)) for i in mean_i]\n",
    "        var = np.random.randint(7,15)\n",
    "        subdf = DataFrame(multivariate_normal(mean, np.eye(2)*var, n),\n",
    "                         columns=['x1','x2'])\n",
    "        subdf['category'] = category\n",
    "        subdf_set.append(subdf)\n",
    "        print('Category', category, '-> mean:', mean, ', variance:', var, ', count:', n)\n",
    "        # update mean_i\n",
    "        if mean_i[0] == mean_i[1]:\n",
    "            mean_i[0] += 1\n",
    "            mean_i[1] = 1\n",
    "        else:\n",
    "            mean_i[1] += 1\n",
    "        \n",
    "    df = pd.concat(subdf_set, ignore_index=True)\n",
    "    df = df.reindex(permutation(df.index)).reset_index(drop=True) # Shuffle\n",
    "    \n",
    "    # Graph\n",
    "    fig = plt.figure(figsize=(6,6))\n",
    "    subplot = fig.add_subplot(1,1,1)\n",
    "    for category in range(n_category):\n",
    "        data_set = df[df['category']==category]\n",
    "        subplot.scatter(data_set.x1, data_set.x2, marker='o')\n",
    "    fig.show()\n",
    "    \n",
    "    return df"
   ]
  }
 ],
 "metadata": {
  "kernelspec": {
   "display_name": "Python 3",
   "language": "python",
   "name": "python3"
  },
  "language_info": {
   "codemirror_mode": {
    "name": "ipython",
    "version": 3
   },
   "file_extension": ".py",
   "mimetype": "text/x-python",
   "name": "python",
   "nbconvert_exporter": "python",
   "pygments_lexer": "ipython3",
   "version": "3.6.3"
  }
 },
 "nbformat": 4,
 "nbformat_minor": 2
}
